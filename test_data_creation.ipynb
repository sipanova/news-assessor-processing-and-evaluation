{
 "cells": [
  {
   "cell_type": "code",
   "execution_count": null,
   "metadata": {},
   "outputs": [],
   "source": []
  },
  {
   "cell_type": "code",
   "execution_count": 1,
   "metadata": {},
   "outputs": [
    {
     "name": "stdout",
     "output_type": "stream",
     "text": [
      "test_data_1: 1129\n",
      "test_data_2: 500\n",
      "test_data_3: 375\n",
      "test_data_4: 304\n",
      "test_data_5: 198\n",
      "lang\n",
      "fr    133\n",
      "de     36\n",
      "en     24\n",
      "it      5\n",
      "Name: count, dtype: int64\n"
     ]
    }
   ],
   "source": [
    "# create test data\n",
    "import pandas as pd\n",
    "\n",
    "test_data_1 = pd.read_csv(\"data/data.csv\")\n",
    "print(f\"test_data_1: {len(test_data_1)}\")\n",
    "\n",
    "test_data_2 = test_data_1.tail(500)\n",
    "print(f\"test_data_2: {len(test_data_2)}\")\n",
    "\n",
    "test_data_3 = test_data_2[test_data_2['post_type'] == 'TEXT']\n",
    "print(f\"test_data_3: {len(test_data_3)}\")\n",
    "\n",
    "test_data_4 = test_data_3[test_data_3['lang'].isin(['de', 'fr', 'en', 'it'])]\n",
    "print(f\"test_data_4: {len(test_data_4)}\")\n",
    "\n",
    "\n",
    "test_data_5 = test_data_4.head(198)\n",
    "print(f\"test_data_5: {len(test_data_5)}\")\n",
    "\n",
    "status_counts = test_data_5['lang'].value_counts()\n",
    "print(status_counts)\n",
    "\n",
    "test_data_5.to_csv(\"test-data-2.csv\", index=False, encoding='utf-8')\n"
   ]
  },
  {
   "cell_type": "code",
   "execution_count": 3,
   "metadata": {},
   "outputs": [
    {
     "name": "stdout",
     "output_type": "stream",
     "text": [
      "test_data_1: 1129\n",
      "test_data_2: 500\n",
      "test_data_3: 6\n",
      "lang\n",
      "fr    4\n",
      "es    1\n",
      "en    1\n",
      "Name: count, dtype: int64\n"
     ]
    }
   ],
   "source": [
    "# create mini-data\n",
    "import pandas as pd\n",
    "\n",
    "test_data_1 = pd.read_csv(\"data.csv\")\n",
    "print(f\"test_data_1: {len(test_data_1)}\")\n",
    "\n",
    "test_data_2 = test_data_1.head(500)\n",
    "print(f\"test_data_2: {len(test_data_2)}\")\n",
    "\n",
    "\n",
    "test_data_3 = test_data_2.tail(6)\n",
    "print(f\"test_data_3: {len(test_data_3)}\")\n",
    "\n",
    "status_counts = test_data_3['lang'].value_counts()\n",
    "print(status_counts)\n",
    "\n",
    "test_data_3.to_csv(\"tiny-mini-data.csv\", index=False, encoding='utf-8')\n"
   ]
  },
  {
   "cell_type": "code",
   "execution_count": 3,
   "metadata": {},
   "outputs": [
    {
     "name": "stdout",
     "output_type": "stream",
     "text": [
      "test_data_1: 1129\n",
      "test_data_3: 845\n",
      "test_data_4: 660\n",
      "lang\n",
      "fr    446\n",
      "de    106\n",
      "en     96\n",
      "it     12\n",
      "Name: count, dtype: int64\n"
     ]
    }
   ],
   "source": [
    "import pandas as pd\n",
    "\n",
    "test_data_1 = pd.read_csv(\"data/data.csv\")\n",
    "print(f\"test_data_1: {len(test_data_1)}\")\n",
    "\n",
    "test_data_3 = test_data_1[test_data_1['post_type'] == 'TEXT']\n",
    "print(f\"test_data_3: {len(test_data_3)}\")\n",
    "\n",
    "test_data_4 = test_data_3[test_data_3['lang'].isin(['de', 'fr', 'en', 'it'])]\n",
    "print(f\"test_data_4: {len(test_data_4)}\")\n",
    "status_counts = test_data_4['lang'].value_counts()\n",
    "print(status_counts)\n",
    "\n",
    "test_data_4.to_csv(\"train-data.csv\", index=False, encoding='utf-8')\n"
   ]
  },
  {
   "cell_type": "code",
   "execution_count": 2,
   "metadata": {},
   "outputs": [],
   "source": [
    "import pandas as pd\n",
    "processed_data_133 = pd.read_json(\"data/processed_data_133.json\", orient=\"records\", lines=True)\n",
    "processed_data_658 = pd.read_json(\"data/processed_data_658.json\", orient=\"records\", lines=True)"
   ]
  },
  {
   "cell_type": "code",
   "execution_count": 3,
   "metadata": {},
   "outputs": [
    {
     "name": "stdout",
     "output_type": "stream",
     "text": [
      "lang\n",
      "fr    86\n",
      "de    27\n",
      "en    16\n",
      "it     4\n",
      "Name: count, dtype: int64\n"
     ]
    }
   ],
   "source": [
    "status_counts = processed_data_133['lang'].value_counts()\n",
    "print(status_counts)"
   ]
  },
  {
   "cell_type": "code",
   "execution_count": 4,
   "metadata": {},
   "outputs": [
    {
     "name": "stdout",
     "output_type": "stream",
     "text": [
      "lang\n",
      "fr    445\n",
      "de    105\n",
      "en     96\n",
      "it     12\n",
      "Name: count, dtype: int64\n"
     ]
    }
   ],
   "source": [
    "status_counts = processed_data_658['lang'].value_counts()\n",
    "print(status_counts)"
   ]
  }
 ],
 "metadata": {
  "kernelspec": {
   "display_name": "Python 3",
   "language": "python",
   "name": "python3"
  },
  "language_info": {
   "codemirror_mode": {
    "name": "ipython",
    "version": 3
   },
   "file_extension": ".py",
   "mimetype": "text/x-python",
   "name": "python",
   "nbconvert_exporter": "python",
   "pygments_lexer": "ipython3",
   "version": "3.11.5"
  }
 },
 "nbformat": 4,
 "nbformat_minor": 2
}
